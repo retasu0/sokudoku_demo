{
 "cells": [
  {
   "cell_type": "code",
   "execution_count": 4,
   "metadata": {
    "collapsed": true
   },
   "outputs": [
    {
     "name": "stdout",
     "output_type": "stream",
     "text": [
      "くる\t動詞,非自立可能,,,カ行変格,連体形-一般,クル,来る,くる,クル,くる,クル,和,\"\",\"\",\"\",\"\",\"\",\"\",用,クル,クル,クル,クル,\"1\",\"C1\",\"\",2891174448865985,10518\n",
      "まで\t助詞,副助詞,,,,,マデ,まで,まで,マデ,まで,マデ,和,\"\",\"\",\"\",\"\",\"\",\"\",副助,マデ,マデ,マデ,マデ,\"\",\"名詞%F2@1,形容詞%F2@1,動詞%F2@1\",\"\",9865651581755904,35891\n",
      "まつ\t動詞,一般,,,五段-タ行,連体形-一般,マツ,待つ,まつ,マツ,まつ,マツ,和,\"\",\"\",\"\",\"\",\"\",\"\",用,マツ,マツ,マツ,マツ,\"1\",\"C1\",\"\",9848884029432513,35830\n",
      "EOS\n",
      "\n"
     ]
    }
   ],
   "source": [
    "import MeCab\n",
    "import unidic\n",
    "\n",
    "tagger = MeCab.Tagger()  # 「tagger = MeCab.Tagger('-d ' + unidic.DICDIR)」\n",
    "sample_txt = 'くるまでまつ'\n",
    "result = tagger.parse(sample_txt)\n",
    "print(result)"
   ]
  },
  {
   "cell_type": "code",
   "execution_count": 5,
   "outputs": [
    {
     "name": "stdout",
     "output_type": "stream",
     "text": [
      "くるまでまつ\n",
      "くる まで まつ \n",
      "\n"
     ]
    }
   ],
   "source": [
    "wakati = MeCab.Tagger('-Owakati')\n",
    "result = wakati.parse(sample_txt)\n",
    "print(sample_txt)\n",
    "print(result)"
   ],
   "metadata": {
    "collapsed": false,
    "pycharm": {
     "name": "#%%\n"
    }
   }
  },
  {
   "cell_type": "code",
   "execution_count": 36,
   "outputs": [
    {
     "name": "stdout",
     "output_type": "stream",
     "text": [
      "マイクロ ソフト （ 英 : Microsoft Corporation ） は 、 アメリカ 合衆 国 ワシントン 州 に 本社 を 置く 、 ソフトウェア を 開発 、 販売 する 会社 で ある 。 2021 年 11 月 時点 で の 時価 総額 が 約 270 兆 円 を 超え 世界 2 位 [ 3 ] 。 1975 年 に ビル ・ ゲイツ と ポール ・ アレン に よっ て 創業 さ れ た [ 注釈 1 ] 。 1985 年 に パソコン 用 OS の Windows を 開発 。 1990 年 に Windows 向け の オフィス ソフト と し て Microsoft Office を 販売 。 1995 年 に ウェブ ブラウザ の Internet Explorer を リリース 。 2001 年 に 家庭 用 ゲーム 機 の Xbox を 販売 。 2009 年 に 検索 エンジン の Bing を 設立 。 2010 年 に クラウド サービス と し て Azure を 開始 。 \n",
      "\n"
     ]
    }
   ],
   "source": [
    "text = \"\"\"\n",
    "マイクロソフト（英: Microsoft Corporation）は、アメリカ合衆国ワシントン州に本社を置く、ソフトウェアを開発、販売する会社である。2021年11月時点での時価総額が約270兆円を超え世界2位[3]。1975年にビル・ゲイツとポール・アレンによって創業された[注釈 1]。1985年にパソコン用OSのWindowsを開発。1990年にWindows向けのオフィスソフトとしてMicrosoft Officeを販売。1995年にウェブブラウザのInternet Explorerをリリース。2001年に家庭用ゲーム機のXboxを販売。2009年に検索エンジンのBingを設立。2010年にクラウドサービスとしてAzureを開始。\n",
    "\"\"\"\n",
    "result = wakati.parse(text)\n",
    "print(result)"
   ],
   "metadata": {
    "collapsed": false,
    "pycharm": {
     "name": "#%%\n"
    }
   }
  },
  {
   "cell_type": "code",
   "execution_count": 37,
   "outputs": [],
   "source": [
    "import MeCab\n",
    "\n",
    "m = MeCab.Tagger('') #mecabのtagger objectの宣言\n",
    "\n",
    "# https://qiita.com/shimajiroxyz/items/e44058af8b036f5354aa\n",
    "def bunsetsuWakachi(text):\n",
    "    m_result = m.parse(text).splitlines()\n",
    "    m_result = m_result[:-1] #最後の1行は不要な行なので除く\n",
    "    break_pos = ['名詞','動詞','接頭詞','副詞','感動詞','形容詞','形容動詞','連体詞'] #文節の切れ目を検出するための品詞リスト\n",
    "    wakachi = [''] #分かち書きのリスト\n",
    "    afterPrepos = False #接頭詞の直後かどうかのフラグ\n",
    "    afterSahenNoun = False #サ変接続名詞の直後かどうかのフラグ\n",
    "    for v in m_result:\n",
    "        if '\\t' not in v: continue\n",
    "        surface = v.split('\\t')[0] #表層系\n",
    "        pos = v.split('\\t')[1].split(',') #品詞など\n",
    "        pos_detail = ','.join(pos[1:4]) #品詞細分類（各要素の内部がさらに'/'で区切られていることがあるので、','でjoinして、inで判定する)\n",
    "        #この単語が文節の切れ目とならないかどうかの判定\n",
    "        noBreak = pos[0] not in break_pos\n",
    "        noBreak = noBreak or '接尾' in pos_detail\n",
    "        noBreak = noBreak or (pos[0]=='動詞' and 'サ変接続' in pos_detail)\n",
    "        noBreak = noBreak or '非自立' in pos_detail #非自立な名詞、動詞を文節の切れ目としたい場合はこの行をコメントアウトする\n",
    "        noBreak = noBreak or afterPrepos\n",
    "        noBreak = noBreak or (afterSahenNoun and pos[0]=='動詞' and pos[4]=='サ変・スル')\n",
    "        if noBreak == False:\n",
    "            wakachi.append(\"\")\n",
    "        wakachi[-1] += surface\n",
    "        afterPrepos = pos[0]=='接頭詞'\n",
    "        afterSahenNoun = 'サ変接続' in pos_detail\n",
    "    if wakachi[0] == '': wakachi = wakachi[1:] #最初が空文字のとき削除する\n",
    "    return wakachi\n",
    "\n",
    "text_list = bunsetsuWakachi(text)"
   ],
   "metadata": {
    "collapsed": false,
    "pycharm": {
     "name": "#%%\n"
    }
   }
  },
  {
   "cell_type": "code",
   "execution_count": 41,
   "outputs": [
    {
     "name": "stdout",
     "output_type": "stream",
     "text": [
      "マイクロ\n",
      "ソフト（英:\n",
      "Microsoft\n",
      "Corporation）は、\n",
      "アメリカ\n",
      "合衆国\n",
      "ワシントン\n",
      "州に\n",
      "本社を置く、\n",
      "ソフトウェアを\n",
      "開発、\n",
      "販売する\n",
      "会社である。\n",
      "2021年\n",
      "11月\n",
      "時点での時価\n",
      "総額が約\n",
      "270兆円を\n",
      "超え世界\n",
      "2位[3]。\n",
      "1975年に\n",
      "ビル・\n",
      "ゲイツと\n",
      "ポール・\n",
      "アレンに\n",
      "よって\n",
      "創業された[\n",
      "注釈1]。\n",
      "1985年に\n",
      "パソコン用\n",
      "OSの\n",
      "Windowsを\n",
      "開発。\n",
      "1990年に\n",
      "Windows向けの\n",
      "オフィス\n",
      "ソフトとして\n",
      "Microsoft\n",
      "Officeを\n",
      "販売。\n",
      "1995年に\n",
      "ウェブ\n",
      "ブラウザの\n",
      "Internet\n",
      "Explorerを\n",
      "リリース。\n",
      "2001年に\n",
      "家庭用ゲーム\n",
      "機の\n",
      "Xboxを\n",
      "販売。\n",
      "2009年に\n",
      "検索\n",
      "エンジンの\n",
      "Bingを\n",
      "設立。\n",
      "2010年に\n",
      "クラウド\n",
      "サービスとして\n",
      "Azureを\n"
     ]
    }
   ],
   "source": [
    "hoge_list = []\n",
    "MAX_LEN = 7\n",
    "\n",
    "tmp_str = \"\"\n",
    "for text in text_list:\n",
    "\n",
    "    # 指定文字数よりも小さければ追加\n",
    "    if len(tmp_str) + len(text)<MAX_LEN:\n",
    "        tmp_str+=text\n",
    "    # 指定文字数よりも大きければ表示、リセット\n",
    "    else:\n",
    "        hoge_list.append(tmp_str)\n",
    "        print(tmp_str)\n",
    "        tmp_str=text\n",
    "hoge_list.append(tmp_str)"
   ],
   "metadata": {
    "collapsed": false,
    "pycharm": {
     "name": "#%%\n"
    }
   }
  },
  {
   "cell_type": "code",
   "execution_count": 33,
   "outputs": [],
   "source": [
    "import PIL.Image\n",
    "import PIL.ImageDraw\n",
    "import PIL.ImageFont\n",
    "\n",
    "# 使うフォント，サイズ，描くテキストの設定\n",
    "#ttfontname = \"data/font/ipaexg.ttf\" # ゴシック体\n",
    "ttfontname = \"data/font/ipaexg.ttf\" # 明朝体\n",
    "fontsize = 36\n",
    "text = \"bbbbbbbbbbb\"\n",
    "\n",
    "# 画像サイズ，背景色，フォントの色を設定\n",
    "canvasSize    = (600, 300)\n",
    "backgroundRGB = (255, 255, 255)\n",
    "textRGB       = (0, 0, 0)\n",
    "\n",
    "# 文字を描く画像の作成\n",
    "img  = PIL.Image.new('RGB', canvasSize, backgroundRGB)\n",
    "draw = PIL.ImageDraw.Draw(img)\n",
    "\n",
    "# 用意した画像に文字列を描く\n",
    "font = PIL.ImageFont.truetype(ttfontname, fontsize)\n",
    "textWidth, textHeight = draw.textsize(text,font=font)\n",
    "textTopLeft = (canvasSize[0]//2-textWidth//2, canvasSize[1]//2-textHeight//2) # 前から1/6，上下中央に配置\n",
    "draw.text(textTopLeft, text, fill=textRGB, font=font)\n",
    "\n",
    "img.save(\"data/tmp_img/image3.png\")"
   ],
   "metadata": {
    "collapsed": false,
    "pycharm": {
     "name": "#%%\n"
    }
   }
  },
  {
   "cell_type": "code",
   "execution_count": 45,
   "outputs": [],
   "source": [
    "def make_image(text,index):\n",
    "\n",
    "    # 使うフォント，サイズ，描くテキストの設定\n",
    "    #ttfontname = \"data/font/ipaexg.ttf\" # ゴシック体\n",
    "    ttfontname = \"data/font/ipaexg.ttf\" # 明朝体\n",
    "    fontsize = 36\n",
    "\n",
    "\n",
    "    # 画像サイズ，背景色，フォントの色を設定\n",
    "    canvasSize    = (600, 300)\n",
    "    backgroundRGB = (255, 255, 255)\n",
    "    textRGB       = (0, 0, 0)\n",
    "\n",
    "    # 文字を描く画像の作成\n",
    "    img  = PIL.Image.new('RGB', canvasSize, backgroundRGB)\n",
    "    draw = PIL.ImageDraw.Draw(img)\n",
    "\n",
    "    # 用意した画像に文字列を描く\n",
    "    font = PIL.ImageFont.truetype(ttfontname, fontsize)\n",
    "    textWidth, textHeight = draw.textsize(text,font=font)\n",
    "    textTopLeft = (canvasSize[0]//2-textWidth//2, canvasSize[1]//2-textHeight//2) # 前から1/6，上下中央に配置\n",
    "    draw.text(textTopLeft, text, fill=textRGB, font=font)\n",
    "\n",
    "    img.save(f\"data/tmp_img/{str(index).zfill(4)}.png\")\n",
    "\n",
    "\n",
    "for index,text in enumerate(hoge_list):\n",
    "    make_image(text,index)"
   ],
   "metadata": {
    "collapsed": false,
    "pycharm": {
     "name": "#%%\n"
    }
   }
  },
  {
   "cell_type": "code",
   "execution_count": 43,
   "outputs": [
    {
     "name": "stdout",
     "output_type": "stream",
     "text": [
      "保存中...\n",
      "保存しました\n"
     ]
    }
   ],
   "source": [
    "import cv2\n",
    "import glob\n",
    "\n",
    "size=(600,300)#サイズ指定\n",
    "fourcc = cv2.VideoWriter_fourcc('m','p','4','v')#保存形式\n",
    "save = cv2.VideoWriter('next_tegaki_0mv.mp4',fourcc,4,size)#動画を保存する形を作成\n",
    "\n",
    "print(\"保存中...\")\n",
    "\n",
    "#0フォルダ\n",
    "pic_data=glob.glob(\"data/tmp_img/*.png\")#0フォルダだけ取り出す\n",
    "for i in range(len(pic_data)):#178回繰り返す\n",
    "    img=pic_data[i]\n",
    "    img=cv2.imread(img)#画像を読み込む\n",
    "    img=cv2.resize(img,(600,300))#上でサイズを指定していますが、念のため\n",
    "    save.write(img)#保存\n",
    "\n",
    "print(\"保存しました\")\n",
    "\n",
    "save.release() # ファイルを閉じる"
   ],
   "metadata": {
    "collapsed": false,
    "pycharm": {
     "name": "#%%\n"
    }
   }
  },
  {
   "cell_type": "code",
   "execution_count": 46,
   "outputs": [
    {
     "ename": "PermissionError",
     "evalue": "[WinError 5] アクセスが拒否されました。: 'data/tmp_img/'",
     "output_type": "error",
     "traceback": [
      "\u001B[1;31m---------------------------------------------------------------------------\u001B[0m",
      "\u001B[1;31mPermissionError\u001B[0m                           Traceback (most recent call last)",
      "\u001B[1;32m<ipython-input-46-00d545ad36a2>\u001B[0m in \u001B[0;36m<module>\u001B[1;34m\u001B[0m\n\u001B[0;32m      2\u001B[0m \u001B[1;32mimport\u001B[0m \u001B[0mshutil\u001B[0m\u001B[1;33m\u001B[0m\u001B[1;33m\u001B[0m\u001B[0m\n\u001B[0;32m      3\u001B[0m \u001B[1;33m\u001B[0m\u001B[0m\n\u001B[1;32m----> 4\u001B[1;33m \u001B[0mshutil\u001B[0m\u001B[1;33m.\u001B[0m\u001B[0mrmtree\u001B[0m\u001B[1;33m(\u001B[0m\u001B[1;34m\"data/tmp_img/\"\u001B[0m\u001B[1;33m)\u001B[0m\u001B[1;33m\u001B[0m\u001B[1;33m\u001B[0m\u001B[0m\n\u001B[0m\u001B[0;32m      5\u001B[0m \u001B[0mos\u001B[0m\u001B[1;33m.\u001B[0m\u001B[0mmkdir\u001B[0m\u001B[1;33m(\u001B[0m\u001B[1;34m\"data/tmp_img/\"\u001B[0m\u001B[1;33m)\u001B[0m\u001B[1;33m\u001B[0m\u001B[1;33m\u001B[0m\u001B[0m\n",
      "\u001B[1;32mC:\\ProgramData\\Anaconda3\\lib\\shutil.py\u001B[0m in \u001B[0;36mrmtree\u001B[1;34m(path, ignore_errors, onerror)\u001B[0m\n\u001B[0;32m    735\u001B[0m             \u001B[1;31m# can't continue even if onerror hook returns\u001B[0m\u001B[1;33m\u001B[0m\u001B[1;33m\u001B[0m\u001B[1;33m\u001B[0m\u001B[0m\n\u001B[0;32m    736\u001B[0m             \u001B[1;32mreturn\u001B[0m\u001B[1;33m\u001B[0m\u001B[1;33m\u001B[0m\u001B[0m\n\u001B[1;32m--> 737\u001B[1;33m         \u001B[1;32mreturn\u001B[0m \u001B[0m_rmtree_unsafe\u001B[0m\u001B[1;33m(\u001B[0m\u001B[0mpath\u001B[0m\u001B[1;33m,\u001B[0m \u001B[0monerror\u001B[0m\u001B[1;33m)\u001B[0m\u001B[1;33m\u001B[0m\u001B[1;33m\u001B[0m\u001B[0m\n\u001B[0m\u001B[0;32m    738\u001B[0m \u001B[1;33m\u001B[0m\u001B[0m\n\u001B[0;32m    739\u001B[0m \u001B[1;31m# Allow introspection of whether or not the hardening against symlink\u001B[0m\u001B[1;33m\u001B[0m\u001B[1;33m\u001B[0m\u001B[1;33m\u001B[0m\u001B[0m\n",
      "\u001B[1;32mC:\\ProgramData\\Anaconda3\\lib\\shutil.py\u001B[0m in \u001B[0;36m_rmtree_unsafe\u001B[1;34m(path, onerror)\u001B[0m\n\u001B[0;32m    617\u001B[0m         \u001B[0mos\u001B[0m\u001B[1;33m.\u001B[0m\u001B[0mrmdir\u001B[0m\u001B[1;33m(\u001B[0m\u001B[0mpath\u001B[0m\u001B[1;33m)\u001B[0m\u001B[1;33m\u001B[0m\u001B[1;33m\u001B[0m\u001B[0m\n\u001B[0;32m    618\u001B[0m     \u001B[1;32mexcept\u001B[0m \u001B[0mOSError\u001B[0m\u001B[1;33m:\u001B[0m\u001B[1;33m\u001B[0m\u001B[1;33m\u001B[0m\u001B[0m\n\u001B[1;32m--> 619\u001B[1;33m         \u001B[0monerror\u001B[0m\u001B[1;33m(\u001B[0m\u001B[0mos\u001B[0m\u001B[1;33m.\u001B[0m\u001B[0mrmdir\u001B[0m\u001B[1;33m,\u001B[0m \u001B[0mpath\u001B[0m\u001B[1;33m,\u001B[0m \u001B[0msys\u001B[0m\u001B[1;33m.\u001B[0m\u001B[0mexc_info\u001B[0m\u001B[1;33m(\u001B[0m\u001B[1;33m)\u001B[0m\u001B[1;33m)\u001B[0m\u001B[1;33m\u001B[0m\u001B[1;33m\u001B[0m\u001B[0m\n\u001B[0m\u001B[0;32m    620\u001B[0m \u001B[1;33m\u001B[0m\u001B[0m\n\u001B[0;32m    621\u001B[0m \u001B[1;31m# Version using fd-based APIs to protect against races\u001B[0m\u001B[1;33m\u001B[0m\u001B[1;33m\u001B[0m\u001B[1;33m\u001B[0m\u001B[0m\n",
      "\u001B[1;32mC:\\ProgramData\\Anaconda3\\lib\\shutil.py\u001B[0m in \u001B[0;36m_rmtree_unsafe\u001B[1;34m(path, onerror)\u001B[0m\n\u001B[0;32m    615\u001B[0m                 \u001B[0monerror\u001B[0m\u001B[1;33m(\u001B[0m\u001B[0mos\u001B[0m\u001B[1;33m.\u001B[0m\u001B[0munlink\u001B[0m\u001B[1;33m,\u001B[0m \u001B[0mfullname\u001B[0m\u001B[1;33m,\u001B[0m \u001B[0msys\u001B[0m\u001B[1;33m.\u001B[0m\u001B[0mexc_info\u001B[0m\u001B[1;33m(\u001B[0m\u001B[1;33m)\u001B[0m\u001B[1;33m)\u001B[0m\u001B[1;33m\u001B[0m\u001B[1;33m\u001B[0m\u001B[0m\n\u001B[0;32m    616\u001B[0m     \u001B[1;32mtry\u001B[0m\u001B[1;33m:\u001B[0m\u001B[1;33m\u001B[0m\u001B[1;33m\u001B[0m\u001B[0m\n\u001B[1;32m--> 617\u001B[1;33m         \u001B[0mos\u001B[0m\u001B[1;33m.\u001B[0m\u001B[0mrmdir\u001B[0m\u001B[1;33m(\u001B[0m\u001B[0mpath\u001B[0m\u001B[1;33m)\u001B[0m\u001B[1;33m\u001B[0m\u001B[1;33m\u001B[0m\u001B[0m\n\u001B[0m\u001B[0;32m    618\u001B[0m     \u001B[1;32mexcept\u001B[0m \u001B[0mOSError\u001B[0m\u001B[1;33m:\u001B[0m\u001B[1;33m\u001B[0m\u001B[1;33m\u001B[0m\u001B[0m\n\u001B[0;32m    619\u001B[0m         \u001B[0monerror\u001B[0m\u001B[1;33m(\u001B[0m\u001B[0mos\u001B[0m\u001B[1;33m.\u001B[0m\u001B[0mrmdir\u001B[0m\u001B[1;33m,\u001B[0m \u001B[0mpath\u001B[0m\u001B[1;33m,\u001B[0m \u001B[0msys\u001B[0m\u001B[1;33m.\u001B[0m\u001B[0mexc_info\u001B[0m\u001B[1;33m(\u001B[0m\u001B[1;33m)\u001B[0m\u001B[1;33m)\u001B[0m\u001B[1;33m\u001B[0m\u001B[1;33m\u001B[0m\u001B[0m\n",
      "\u001B[1;31mPermissionError\u001B[0m: [WinError 5] アクセスが拒否されました。: 'data/tmp_img/'"
     ]
    }
   ],
   "source": [
    "import os\n",
    "import shutil\n",
    "\n",
    "shutil.rmtree(\"data/tmp_img/\")\n",
    "os.mkdir(\"data/tmp_img/\")"
   ],
   "metadata": {
    "collapsed": false,
    "pycharm": {
     "name": "#%%\n"
    }
   }
  }
 ],
 "metadata": {
  "kernelspec": {
   "display_name": "Python 3",
   "language": "python",
   "name": "python3"
  },
  "language_info": {
   "codemirror_mode": {
    "name": "ipython",
    "version": 2
   },
   "file_extension": ".py",
   "mimetype": "text/x-python",
   "name": "python",
   "nbconvert_exporter": "python",
   "pygments_lexer": "ipython2",
   "version": "2.7.6"
  }
 },
 "nbformat": 4,
 "nbformat_minor": 0
}
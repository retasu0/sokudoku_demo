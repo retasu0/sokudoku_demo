{
 "cells": [
  {
   "cell_type": "code",
   "execution_count": null,
   "metadata": {
    "collapsed": true
   },
   "outputs": [],
   "source": [
    "!git clone https://github.com/retasu0/sokudoku_demo.git\n",
    "!pip install mecab-python3\n",
    "!pip install unidic\n",
    "!python -m unidic download"
   ]
  },
  {
   "cell_type": "code",
   "execution_count": null,
   "outputs": [],
   "source": [
    "from tools import *\n",
    "import cv2\n",
    "import glob\n",
    "import os\n",
    "import shutil\n",
    "import os\n",
    "os.chdir(\"sokudoku_demo\")"
   ],
   "metadata": {
    "collapsed": false,
    "pycharm": {
     "name": "#%%\n"
    }
   }
  },
  {
   "cell_type": "code",
   "execution_count": null,
   "outputs": [],
   "source": [
    "# ---------------\n",
    "# 各種パラメータ\n",
    "# ---------------\n",
    "MAX_LEN = 7 # 1つのコマで表示する文字数の上限\n",
    "WIDTH = 1200 # 動画の解像度。横幅\n",
    "HEIGHT = 600 # 動画の解像度。立幅\n",
    "FRAME_SPEED = 5 # 1秒間に何枚のコマを表示するか。小数も可能\n",
    "\n",
    "# ターゲットの文章\n",
    "text = \"\"\"\n",
    "マイクロソフト（英: Microsoft Corporation）は、アメリカ合衆国ワシントン州に本社を置く、ソフトウェアを開発、販売する会社である。2021年11月時点での時価総額が約270兆円を超え世界2位[3]。1975年にビル・ゲイツとポール・アレンによって創業された[注釈 1]。1985年にパソコン用OSのWindowsを開発。1990年にWindows向けのオフィスソフトとしてMicrosoft Officeを販売。1995年にウェブブラウザのInternet Explorerをリリース。2001年に家庭用ゲーム機のXboxを販売。2009年に検索エンジンのBingを設立。2010年にクラウドサービスとしてAzureを開始。\n",
    "\"\"\"\n",
    "# ---------------\n",
    "# 文章の加工\n",
    "# ---------------\n",
    "\n",
    "# 文節ごとに分ける\n",
    "text_list = bunsetsuWakachi(text)\n",
    "\n",
    "\n",
    "# 文節の上限文字数を超えないようにまとめたリスト\n",
    "sentence_list = []\n",
    "\n",
    "tmp_str = \"\"\n",
    "for text in text_list:\n",
    "\n",
    "    # 指定文字数よりも小さければ追加\n",
    "    if len(tmp_str) + len(text)<MAX_LEN:\n",
    "        tmp_str+=text\n",
    "    # 指定文字数よりも大きければリストに追加、リセット\n",
    "    else:\n",
    "        sentence_list.append(tmp_str)\n",
    "        tmp_str=text\n",
    "\n",
    "sentence_list.append(tmp_str)\n",
    "\n",
    "# ---------------\n",
    "# 画像の生成\n",
    "# ---------------\n",
    "\n",
    "# 動画に使う画像を生成\n",
    "for index,text in enumerate(sentence_list):\n",
    "    make_image(text,index)\n",
    "\n",
    "\n",
    "# ---------------\n",
    "# 動画の作成\n",
    "# ---------------\n",
    "\n",
    "size=(WIDTH,HEIGHT)#サイズ指定\n",
    "fourcc = cv2.VideoWriter_fourcc('m','p','4','v')#保存形式\n",
    "save = cv2.VideoWriter('output.mp4',fourcc,4,size)#動画を保存する形を作成\n",
    "\n",
    "\n",
    "#0フォルダ\n",
    "pic_data=glob.glob(\"data/tmp_img/*.png\")\n",
    "for i in range(len(pic_data)):\n",
    "    img=pic_data[i]\n",
    "    img=cv2.imread(img)#画像を読み込む\n",
    "    img=cv2.resize(img,(WIDTH,HEIGHT))\n",
    "    save.write(img)#保存\n",
    "\n",
    "\n",
    "save.release() # ファイルを閉じる\n",
    "\n",
    "# ---------------\n",
    "# 画像の削除\n",
    "# ---------------\n",
    "shutil.rmtree(\"data/tmp_img/\")\n",
    "os.mkdir(\"data/tmp_img/\")\n",
    "\n",
    "\n",
    "# ---------------\n",
    "# mp4動画の再生\n",
    "# ---------------\n",
    "\n",
    "from IPython.display import HTML\n",
    "from base64 import b64encode\n",
    "\n",
    "mp4 = open('./sample.mp4', 'rb').read()\n",
    "data_url = 'data:video/mp4;base64,' + b64encode(mp4).decode()\n",
    "HTML(f\"\"\"\n",
    "<video width=\"100%\" height=\"100%\" controls>\n",
    "      <source src=\"{data_url}\" type=\"video/mp4\">\n",
    "</video>\"\"\")\n"
   ],
   "metadata": {
    "collapsed": false,
    "pycharm": {
     "name": "#%%\n"
    }
   }
  }
 ],
 "metadata": {
  "kernelspec": {
   "display_name": "Python 3",
   "language": "python",
   "name": "python3"
  },
  "language_info": {
   "codemirror_mode": {
    "name": "ipython",
    "version": 2
   },
   "file_extension": ".py",
   "mimetype": "text/x-python",
   "name": "python",
   "nbconvert_exporter": "python",
   "pygments_lexer": "ipython2",
   "version": "2.7.6"
  }
 },
 "nbformat": 4,
 "nbformat_minor": 0
}